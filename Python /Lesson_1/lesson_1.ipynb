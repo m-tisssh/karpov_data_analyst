{
 "cells": [
  {
   "cell_type": "code",
   "execution_count": 1,
   "id": "81958f47-3c07-436f-9974-61c2d71a4cad",
   "metadata": {
    "collapsed": true,
    "jupyter": {
     "outputs_hidden": true
    },
    "scrolled": true
   },
   "outputs": [
    {
     "name": "stdout",
     "output_type": "stream",
     "text": [
      "Hello, world!\n"
     ]
    }
   ],
   "source": [
    "print(\"Hello, world!\");"
   ]
  },
  {
   "cell_type": "code",
   "execution_count": 1,
   "id": "76b1d6ea-228b-4073-8f94-7fb9a9c412ac",
   "metadata": {
    "scrolled": true
   },
   "outputs": [
    {
     "data": {
      "text/plain": [
       "0"
      ]
     },
     "execution_count": 1,
     "metadata": {},
     "output_type": "execute_result"
    }
   ],
   "source": [
    "11 // 25"
   ]
  },
  {
   "cell_type": "code",
   "execution_count": 3,
   "id": "6d823036-6b39-4b9d-89a8-5df9005b3ab1",
   "metadata": {
    "scrolled": true
   },
   "outputs": [
    {
     "data": {
      "text/plain": [
       "True"
      ]
     },
     "execution_count": 3,
     "metadata": {},
     "output_type": "execute_result"
    }
   ],
   "source": [
    "4 >= 4"
   ]
  },
  {
   "cell_type": "code",
   "execution_count": 9,
   "id": "d75c9166-d80a-4ac4-af85-ef9ab8047e79",
   "metadata": {},
   "outputs": [
    {
     "data": {
      "text/plain": [
       "['Gena', 'Hanna']"
      ]
     },
     "execution_count": 9,
     "metadata": {},
     "output_type": "execute_result"
    }
   ],
   "source": [
    "employees = ['Anatoly', 'Gena', 'Hanna']\n",
    "employees[1:]"
   ]
  },
  {
   "cell_type": "code",
   "execution_count": 11,
   "id": "04371510-26a5-41d7-87d1-794bb5a56870",
   "metadata": {},
   "outputs": [
    {
     "data": {
      "text/plain": [
       "['Anatoly', 'Gena']"
      ]
     },
     "execution_count": 11,
     "metadata": {},
     "output_type": "execute_result"
    }
   ],
   "source": [
    "employees[:2]"
   ]
  },
  {
   "cell_type": "code",
   "execution_count": 15,
   "id": "5c47a242-7bfd-4a37-9533-cca72b384472",
   "metadata": {},
   "outputs": [
    {
     "data": {
      "text/plain": [
       "'Hanna'"
      ]
     },
     "execution_count": 15,
     "metadata": {},
     "output_type": "execute_result"
    }
   ],
   "source": [
    "employees[-1]  # Отрицательный индекс берет значение с конца"
   ]
  },
  {
   "cell_type": "code",
   "execution_count": 17,
   "id": "bb5878a5-1f09-49a1-bff8-f8b1f73a50ca",
   "metadata": {},
   "outputs": [
    {
     "data": {
      "text/plain": [
       "'Gena'"
      ]
     },
     "execution_count": 17,
     "metadata": {},
     "output_type": "execute_result"
    }
   ],
   "source": [
    "employees.pop(1)"
   ]
  },
  {
   "cell_type": "code",
   "execution_count": 21,
   "id": "1599be55-83d3-4659-a0de-9c7c0423fc38",
   "metadata": {},
   "outputs": [
    {
     "data": {
      "text/plain": [
       "'My name is Masha and I am from Russia'"
      ]
     },
     "execution_count": 21,
     "metadata": {},
     "output_type": "execute_result"
    }
   ],
   "source": [
    "intro = \"My name is {} and I am from {}\"\n",
    "intro.format(\"Masha\", \"Russia\")"
   ]
  },
  {
   "cell_type": "code",
   "execution_count": 31,
   "id": "f414bd68-bf6a-42bd-ae93-d7d50b8152a4",
   "metadata": {},
   "outputs": [
    {
     "data": {
      "text/plain": [
       "{'Ivan': 3000, 'Masha': 15000}"
      ]
     },
     "execution_count": 31,
     "metadata": {},
     "output_type": "execute_result"
    }
   ],
   "source": [
    "salaries = {'Ivan': 3000}\n",
    "salaries['Ivan']\n",
    "salaries['Masha'] = 15000\n",
    "salaries"
   ]
  },
  {
   "cell_type": "code",
   "execution_count": null,
   "id": "974599bb-6e03-4e26-9b2d-2601eebe9706",
   "metadata": {},
   "outputs": [],
   "source": []
  }
 ],
 "metadata": {
  "kernelspec": {
   "display_name": "Python 3.11",
   "language": "python",
   "name": "myenv"
  },
  "language_info": {
   "codemirror_mode": {
    "name": "ipython",
    "version": 3
   },
   "file_extension": ".py",
   "mimetype": "text/x-python",
   "name": "python",
   "nbconvert_exporter": "python",
   "pygments_lexer": "ipython3",
   "version": "3.11.11"
  }
 },
 "nbformat": 4,
 "nbformat_minor": 5
}
