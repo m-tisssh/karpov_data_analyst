{
 "cells": [
  {
   "cell_type": "code",
   "execution_count": 193,
   "id": "733c5dc2-ee75-4f1f-bf8c-1ed4087c0e9b",
   "metadata": {},
   "outputs": [],
   "source": [
    "%matplotlib inline\n",
    "import pandas as pd\n",
    "\n",
    "import seaborn as sns\n",
    "import matplotlib.pyplot as plt"
   ]
  },
  {
   "cell_type": "code",
   "execution_count": 14,
   "id": "b91de803-ad7f-42fd-9d29-6750a4c797f4",
   "metadata": {},
   "outputs": [],
   "source": [
    "df = pd.read_csv('lesson_3_data.csv', encoding='windows-1251')"
   ]
  },
  {
   "cell_type": "code",
   "execution_count": 16,
   "id": "b43cf2d3-5fc9-4df8-bd2f-17e0613e352d",
   "metadata": {},
   "outputs": [
    {
     "data": {
      "text/html": [
       "<div>\n",
       "<style scoped>\n",
       "    .dataframe tbody tr th:only-of-type {\n",
       "        vertical-align: middle;\n",
       "    }\n",
       "\n",
       "    .dataframe tbody tr th {\n",
       "        vertical-align: top;\n",
       "    }\n",
       "\n",
       "    .dataframe thead th {\n",
       "        text-align: right;\n",
       "    }\n",
       "</style>\n",
       "<table border=\"1\" class=\"dataframe\">\n",
       "  <thead>\n",
       "    <tr style=\"text-align: right;\">\n",
       "      <th></th>\n",
       "      <th>Unnamed: 0</th>\n",
       "      <th>tk</th>\n",
       "      <th>pl</th>\n",
       "      <th>dia</th>\n",
       "      <th>hs</th>\n",
       "      <th>tc</th>\n",
       "      <th>cta</th>\n",
       "      <th>id_art</th>\n",
       "      <th>id_subsubfam</th>\n",
       "      <th>id_subfam</th>\n",
       "      <th>...</th>\n",
       "      <th>id_famn</th>\n",
       "      <th>id_seccion</th>\n",
       "      <th>id_subagr</th>\n",
       "      <th>id_agr</th>\n",
       "      <th>vta</th>\n",
       "      <th>uni</th>\n",
       "      <th>id_artn</th>\n",
       "      <th>art_sp</th>\n",
       "      <th>fam_sp</th>\n",
       "      <th>fam_en</th>\n",
       "    </tr>\n",
       "  </thead>\n",
       "  <tbody>\n",
       "    <tr>\n",
       "      <th>0</th>\n",
       "      <td>1242</td>\n",
       "      <td>120071109002055793</td>\n",
       "      <td>1</td>\n",
       "      <td>2007/11/09</td>\n",
       "      <td>0.505729</td>\n",
       "      <td>110000761</td>\n",
       "      <td>11000076</td>\n",
       "      <td>21895</td>\n",
       "      <td>101070640100</td>\n",
       "      <td>1010706401</td>\n",
       "      <td>...</td>\n",
       "      <td>10107064</td>\n",
       "      <td>10107</td>\n",
       "      <td>101</td>\n",
       "      <td>1</td>\n",
       "      <td>0.68</td>\n",
       "      <td>1.0</td>\n",
       "      <td>21895</td>\n",
       "      <td>MARAVILLA        500 G Store_Brand</td>\n",
       "      <td>PASTA ALIMENTICIA SE</td>\n",
       "      <td>pasta</td>\n",
       "    </tr>\n",
       "    <tr>\n",
       "      <th>1</th>\n",
       "      <td>1243</td>\n",
       "      <td>120070601004053633</td>\n",
       "      <td>1</td>\n",
       "      <td>2007/06/01</td>\n",
       "      <td>0.588519</td>\n",
       "      <td>110000761</td>\n",
       "      <td>11000076</td>\n",
       "      <td>21816</td>\n",
       "      <td>101070640100</td>\n",
       "      <td>1010706401</td>\n",
       "      <td>...</td>\n",
       "      <td>10107064</td>\n",
       "      <td>10107</td>\n",
       "      <td>101</td>\n",
       "      <td>1</td>\n",
       "      <td>0.38</td>\n",
       "      <td>1.0</td>\n",
       "      <td>21816</td>\n",
       "      <td>FIDEO CABELLIN   500 G Store_Brand</td>\n",
       "      <td>PASTA ALIMENTICIA SE</td>\n",
       "      <td>pasta</td>\n",
       "    </tr>\n",
       "    <tr>\n",
       "      <th>2</th>\n",
       "      <td>1244</td>\n",
       "      <td>120070928004076410</td>\n",
       "      <td>1</td>\n",
       "      <td>2007/09/28</td>\n",
       "      <td>0.785498</td>\n",
       "      <td>28491841</td>\n",
       "      <td>2849184</td>\n",
       "      <td>562840</td>\n",
       "      <td>101070640100</td>\n",
       "      <td>1010706401</td>\n",
       "      <td>...</td>\n",
       "      <td>10107064</td>\n",
       "      <td>10107</td>\n",
       "      <td>101</td>\n",
       "      <td>1</td>\n",
       "      <td>1.55</td>\n",
       "      <td>2.0</td>\n",
       "      <td>562840</td>\n",
       "      <td>SPAGUETTI Nє 5 500 G Brand_1</td>\n",
       "      <td>PASTA ALIMENTICIA SE</td>\n",
       "      <td>pasta</td>\n",
       "    </tr>\n",
       "    <tr>\n",
       "      <th>3</th>\n",
       "      <td>1245</td>\n",
       "      <td>120070616003074261</td>\n",
       "      <td>1</td>\n",
       "      <td>2007/06/16</td>\n",
       "      <td>0.550961</td>\n",
       "      <td>95931501</td>\n",
       "      <td>9593150</td>\n",
       "      <td>28914</td>\n",
       "      <td>101070640100</td>\n",
       "      <td>1010706401</td>\n",
       "      <td>...</td>\n",
       "      <td>10107064</td>\n",
       "      <td>10107</td>\n",
       "      <td>101</td>\n",
       "      <td>1</td>\n",
       "      <td>1.03</td>\n",
       "      <td>2.0</td>\n",
       "      <td>28914</td>\n",
       "      <td>FIDEO FIDEUБ      500 Brand_7</td>\n",
       "      <td>PASTA ALIMENTICIA SE</td>\n",
       "      <td>pasta</td>\n",
       "    </tr>\n",
       "    <tr>\n",
       "      <th>4</th>\n",
       "      <td>1246</td>\n",
       "      <td>120070519001018477</td>\n",
       "      <td>1</td>\n",
       "      <td>2007/05/19</td>\n",
       "      <td>0.804954</td>\n",
       "      <td>93265591</td>\n",
       "      <td>9326559</td>\n",
       "      <td>159867</td>\n",
       "      <td>101070640100</td>\n",
       "      <td>1010706401</td>\n",
       "      <td>...</td>\n",
       "      <td>10107064</td>\n",
       "      <td>10107</td>\n",
       "      <td>101</td>\n",
       "      <td>1</td>\n",
       "      <td>1.09</td>\n",
       "      <td>1.0</td>\n",
       "      <td>159867</td>\n",
       "      <td>MACARRONES  GRATINAR 5 Brand_2</td>\n",
       "      <td>PASTA ALIMENTICIA SE</td>\n",
       "      <td>pasta</td>\n",
       "    </tr>\n",
       "  </tbody>\n",
       "</table>\n",
       "<p>5 rows × 21 columns</p>\n",
       "</div>"
      ],
      "text/plain": [
       "   Unnamed: 0                  tk  pl         dia        hs         tc  \\\n",
       "0        1242  120071109002055793   1  2007/11/09  0.505729  110000761   \n",
       "1        1243  120070601004053633   1  2007/06/01  0.588519  110000761   \n",
       "2        1244  120070928004076410   1  2007/09/28  0.785498   28491841   \n",
       "3        1245  120070616003074261   1  2007/06/16  0.550961   95931501   \n",
       "4        1246  120070519001018477   1  2007/05/19  0.804954   93265591   \n",
       "\n",
       "        cta  id_art  id_subsubfam   id_subfam  ...   id_famn  id_seccion  \\\n",
       "0  11000076   21895  101070640100  1010706401  ...  10107064       10107   \n",
       "1  11000076   21816  101070640100  1010706401  ...  10107064       10107   \n",
       "2   2849184  562840  101070640100  1010706401  ...  10107064       10107   \n",
       "3   9593150   28914  101070640100  1010706401  ...  10107064       10107   \n",
       "4   9326559  159867  101070640100  1010706401  ...  10107064       10107   \n",
       "\n",
       "   id_subagr  id_agr   vta  uni  id_artn                              art_sp  \\\n",
       "0        101       1  0.68  1.0    21895  MARAVILLA        500 G Store_Brand   \n",
       "1        101       1  0.38  1.0    21816  FIDEO CABELLIN   500 G Store_Brand   \n",
       "2        101       1  1.55  2.0   562840        SPAGUETTI Nє 5 500 G Brand_1   \n",
       "3        101       1  1.03  2.0    28914       FIDEO FIDEUБ      500 Brand_7   \n",
       "4        101       1  1.09  1.0   159867      MACARRONES  GRATINAR 5 Brand_2   \n",
       "\n",
       "                 fam_sp fam_en  \n",
       "0  PASTA ALIMENTICIA SE  pasta  \n",
       "1  PASTA ALIMENTICIA SE  pasta  \n",
       "2  PASTA ALIMENTICIA SE  pasta  \n",
       "3  PASTA ALIMENTICIA SE  pasta  \n",
       "4  PASTA ALIMENTICIA SE  pasta  \n",
       "\n",
       "[5 rows x 21 columns]"
      ]
     },
     "execution_count": 16,
     "metadata": {},
     "output_type": "execute_result"
    }
   ],
   "source": [
    "df.head()"
   ]
  },
  {
   "cell_type": "code",
   "execution_count": 18,
   "id": "19d9887f-10cb-4c24-b5a6-5179c2db814f",
   "metadata": {},
   "outputs": [],
   "source": [
    "user_df = df[['tc','art_sp']]"
   ]
  },
  {
   "cell_type": "code",
   "execution_count": 20,
   "id": "a3c297b7-abb6-4396-a67f-5a169b8076c3",
   "metadata": {},
   "outputs": [
    {
     "data": {
      "text/html": [
       "<div>\n",
       "<style scoped>\n",
       "    .dataframe tbody tr th:only-of-type {\n",
       "        vertical-align: middle;\n",
       "    }\n",
       "\n",
       "    .dataframe tbody tr th {\n",
       "        vertical-align: top;\n",
       "    }\n",
       "\n",
       "    .dataframe thead th {\n",
       "        text-align: right;\n",
       "    }\n",
       "</style>\n",
       "<table border=\"1\" class=\"dataframe\">\n",
       "  <thead>\n",
       "    <tr style=\"text-align: right;\">\n",
       "      <th></th>\n",
       "      <th>tc</th>\n",
       "      <th>art_sp</th>\n",
       "    </tr>\n",
       "  </thead>\n",
       "  <tbody>\n",
       "    <tr>\n",
       "      <th>0</th>\n",
       "      <td>110000761</td>\n",
       "      <td>MARAVILLA        500 G Store_Brand</td>\n",
       "    </tr>\n",
       "    <tr>\n",
       "      <th>1</th>\n",
       "      <td>110000761</td>\n",
       "      <td>FIDEO CABELLIN   500 G Store_Brand</td>\n",
       "    </tr>\n",
       "    <tr>\n",
       "      <th>2</th>\n",
       "      <td>28491841</td>\n",
       "      <td>SPAGUETTI Nє 5 500 G Brand_1</td>\n",
       "    </tr>\n",
       "    <tr>\n",
       "      <th>3</th>\n",
       "      <td>95931501</td>\n",
       "      <td>FIDEO FIDEUБ      500 Brand_7</td>\n",
       "    </tr>\n",
       "    <tr>\n",
       "      <th>4</th>\n",
       "      <td>93265591</td>\n",
       "      <td>MACARRONES  GRATINAR 5 Brand_2</td>\n",
       "    </tr>\n",
       "  </tbody>\n",
       "</table>\n",
       "</div>"
      ],
      "text/plain": [
       "          tc                              art_sp\n",
       "0  110000761  MARAVILLA        500 G Store_Brand\n",
       "1  110000761  FIDEO CABELLIN   500 G Store_Brand\n",
       "2   28491841        SPAGUETTI Nє 5 500 G Brand_1\n",
       "3   95931501       FIDEO FIDEUБ      500 Brand_7\n",
       "4   93265591      MACARRONES  GRATINAR 5 Brand_2"
      ]
     },
     "execution_count": 20,
     "metadata": {},
     "output_type": "execute_result"
    }
   ],
   "source": [
    "user_df.head()"
   ]
  },
  {
   "cell_type": "code",
   "execution_count": 22,
   "id": "64d647ac-ba79-41c7-9cae-1ec062c20ec0",
   "metadata": {},
   "outputs": [],
   "source": [
    "user_df = user_df.rename(columns={'tc':'user_id', 'art_sp':'brand_info'})"
   ]
  },
  {
   "cell_type": "code",
   "execution_count": 24,
   "id": "3d56b187-db46-4077-b626-7886c1d53675",
   "metadata": {},
   "outputs": [
    {
     "data": {
      "text/html": [
       "<div>\n",
       "<style scoped>\n",
       "    .dataframe tbody tr th:only-of-type {\n",
       "        vertical-align: middle;\n",
       "    }\n",
       "\n",
       "    .dataframe tbody tr th {\n",
       "        vertical-align: top;\n",
       "    }\n",
       "\n",
       "    .dataframe thead th {\n",
       "        text-align: right;\n",
       "    }\n",
       "</style>\n",
       "<table border=\"1\" class=\"dataframe\">\n",
       "  <thead>\n",
       "    <tr style=\"text-align: right;\">\n",
       "      <th></th>\n",
       "      <th>user_id</th>\n",
       "      <th>brand_info</th>\n",
       "    </tr>\n",
       "  </thead>\n",
       "  <tbody>\n",
       "    <tr>\n",
       "      <th>0</th>\n",
       "      <td>110000761</td>\n",
       "      <td>MARAVILLA        500 G Store_Brand</td>\n",
       "    </tr>\n",
       "    <tr>\n",
       "      <th>1</th>\n",
       "      <td>110000761</td>\n",
       "      <td>FIDEO CABELLIN   500 G Store_Brand</td>\n",
       "    </tr>\n",
       "    <tr>\n",
       "      <th>2</th>\n",
       "      <td>28491841</td>\n",
       "      <td>SPAGUETTI Nє 5 500 G Brand_1</td>\n",
       "    </tr>\n",
       "    <tr>\n",
       "      <th>3</th>\n",
       "      <td>95931501</td>\n",
       "      <td>FIDEO FIDEUБ      500 Brand_7</td>\n",
       "    </tr>\n",
       "    <tr>\n",
       "      <th>4</th>\n",
       "      <td>93265591</td>\n",
       "      <td>MACARRONES  GRATINAR 5 Brand_2</td>\n",
       "    </tr>\n",
       "  </tbody>\n",
       "</table>\n",
       "</div>"
      ],
      "text/plain": [
       "     user_id                          brand_info\n",
       "0  110000761  MARAVILLA        500 G Store_Brand\n",
       "1  110000761  FIDEO CABELLIN   500 G Store_Brand\n",
       "2   28491841        SPAGUETTI Nє 5 500 G Brand_1\n",
       "3   95931501       FIDEO FIDEUБ      500 Brand_7\n",
       "4   93265591      MACARRONES  GRATINAR 5 Brand_2"
      ]
     },
     "execution_count": 24,
     "metadata": {},
     "output_type": "execute_result"
    }
   ],
   "source": [
    "user_df.head()"
   ]
  },
  {
   "cell_type": "code",
   "execution_count": 26,
   "id": "bad314bc-e633-455f-bd44-705a32aa1ebe",
   "metadata": {},
   "outputs": [],
   "source": [
    " brand_name = 'MARAVILLA 500 G Store_Brand'"
   ]
  },
  {
   "cell_type": "code",
   "execution_count": 28,
   "id": "51fb80df-cf54-4dfb-9f1c-00d977325211",
   "metadata": {},
   "outputs": [
    {
     "data": {
      "text/plain": [
       "'Store_Brand'"
      ]
     },
     "execution_count": 28,
     "metadata": {},
     "output_type": "execute_result"
    }
   ],
   "source": [
    "brand_name.split(' ')[-1]"
   ]
  },
  {
   "cell_type": "code",
   "execution_count": null,
   "id": "10bcaf74-56a7-4548-83dc-579de80b246d",
   "metadata": {},
   "outputs": [],
   "source": []
  },
  {
   "cell_type": "code",
   "execution_count": 30,
   "id": "977a5c6d-08d2-437f-81bb-abe9260570a5",
   "metadata": {},
   "outputs": [
    {
     "name": "stdout",
     "output_type": "stream",
     "text": [
      "<class 'pandas.core.frame.DataFrame'>\n",
      "RangeIndex: 48129 entries, 0 to 48128\n",
      "Data columns (total 2 columns):\n",
      " #   Column      Non-Null Count  Dtype \n",
      "---  ------      --------------  ----- \n",
      " 0   user_id     48129 non-null  int64 \n",
      " 1   brand_info  48129 non-null  object\n",
      "dtypes: int64(1), object(1)\n",
      "memory usage: 752.1+ KB\n"
     ]
    }
   ],
   "source": [
    " user_df.info()"
   ]
  },
  {
   "cell_type": "code",
   "execution_count": null,
   "id": "909b0018-5092-4097-b51d-77cd7e8cddea",
   "metadata": {},
   "outputs": [],
   "source": []
  },
  {
   "cell_type": "code",
   "execution_count": 32,
   "id": "4cb7d3f5-afc7-4c40-bb6a-cd44f497fbd1",
   "metadata": {},
   "outputs": [],
   "source": [
    "def split_brand(brand_name_data):\n",
    "    return brand_name_data.split(' ')[-1]"
   ]
  },
  {
   "cell_type": "code",
   "execution_count": 34,
   "id": "218989d5-afef-41ae-a63c-bde1d4902697",
   "metadata": {},
   "outputs": [],
   "source": [
    "user_df['brand_name'] = user_df['brand_info'].apply(split_brand)"
   ]
  },
  {
   "cell_type": "code",
   "execution_count": 36,
   "id": "850b9b01-ecf4-440d-8107-564c634364db",
   "metadata": {},
   "outputs": [
    {
     "data": {
      "text/html": [
       "<div>\n",
       "<style scoped>\n",
       "    .dataframe tbody tr th:only-of-type {\n",
       "        vertical-align: middle;\n",
       "    }\n",
       "\n",
       "    .dataframe tbody tr th {\n",
       "        vertical-align: top;\n",
       "    }\n",
       "\n",
       "    .dataframe thead th {\n",
       "        text-align: right;\n",
       "    }\n",
       "</style>\n",
       "<table border=\"1\" class=\"dataframe\">\n",
       "  <thead>\n",
       "    <tr style=\"text-align: right;\">\n",
       "      <th></th>\n",
       "      <th>user_id</th>\n",
       "      <th>brand_info</th>\n",
       "      <th>brand_name</th>\n",
       "    </tr>\n",
       "  </thead>\n",
       "  <tbody>\n",
       "    <tr>\n",
       "      <th>0</th>\n",
       "      <td>110000761</td>\n",
       "      <td>MARAVILLA        500 G Store_Brand</td>\n",
       "      <td>Store_Brand</td>\n",
       "    </tr>\n",
       "    <tr>\n",
       "      <th>1</th>\n",
       "      <td>110000761</td>\n",
       "      <td>FIDEO CABELLIN   500 G Store_Brand</td>\n",
       "      <td>Store_Brand</td>\n",
       "    </tr>\n",
       "    <tr>\n",
       "      <th>2</th>\n",
       "      <td>28491841</td>\n",
       "      <td>SPAGUETTI Nє 5 500 G Brand_1</td>\n",
       "      <td>Brand_1</td>\n",
       "    </tr>\n",
       "    <tr>\n",
       "      <th>3</th>\n",
       "      <td>95931501</td>\n",
       "      <td>FIDEO FIDEUБ      500 Brand_7</td>\n",
       "      <td>Brand_7</td>\n",
       "    </tr>\n",
       "    <tr>\n",
       "      <th>4</th>\n",
       "      <td>93265591</td>\n",
       "      <td>MACARRONES  GRATINAR 5 Brand_2</td>\n",
       "      <td>Brand_2</td>\n",
       "    </tr>\n",
       "  </tbody>\n",
       "</table>\n",
       "</div>"
      ],
      "text/plain": [
       "     user_id                          brand_info   brand_name\n",
       "0  110000761  MARAVILLA        500 G Store_Brand  Store_Brand\n",
       "1  110000761  FIDEO CABELLIN   500 G Store_Brand  Store_Brand\n",
       "2   28491841        SPAGUETTI Nє 5 500 G Brand_1      Brand_1\n",
       "3   95931501       FIDEO FIDEUБ      500 Brand_7      Brand_7\n",
       "4   93265591      MACARRONES  GRATINAR 5 Brand_2      Brand_2"
      ]
     },
     "execution_count": 36,
     "metadata": {},
     "output_type": "execute_result"
    }
   ],
   "source": [
    "user_df.head()"
   ]
  },
  {
   "cell_type": "code",
   "execution_count": null,
   "id": "7a4ba4ec-31fa-4d9b-ac5d-c1ca0f21e481",
   "metadata": {},
   "outputs": [],
   "source": []
  },
  {
   "cell_type": "code",
   "execution_count": 56,
   "id": "8258350b-2c78-4529-9b07-dafde9d306cc",
   "metadata": {},
   "outputs": [],
   "source": [
    "users_purcheses = user_df.groupby('user_id', as_index=False) \\\n",
    "    .agg({'brand_name' : 'count'}) \\\n",
    "    .rename(columns={'brand_name':'purchases'}) \\\n",
    "    .query('purchases >= 5')"
   ]
  },
  {
   "cell_type": "code",
   "execution_count": 58,
   "id": "10d9e65d-e74a-4324-923f-06daf60fccf9",
   "metadata": {},
   "outputs": [
    {
     "data": {
      "text/html": [
       "<div>\n",
       "<style scoped>\n",
       "    .dataframe tbody tr th:only-of-type {\n",
       "        vertical-align: middle;\n",
       "    }\n",
       "\n",
       "    .dataframe tbody tr th {\n",
       "        vertical-align: top;\n",
       "    }\n",
       "\n",
       "    .dataframe thead th {\n",
       "        text-align: right;\n",
       "    }\n",
       "</style>\n",
       "<table border=\"1\" class=\"dataframe\">\n",
       "  <thead>\n",
       "    <tr style=\"text-align: right;\">\n",
       "      <th></th>\n",
       "      <th>user_id</th>\n",
       "      <th>purchases</th>\n",
       "    </tr>\n",
       "  </thead>\n",
       "  <tbody>\n",
       "    <tr>\n",
       "      <th>1</th>\n",
       "      <td>1031</td>\n",
       "      <td>6</td>\n",
       "    </tr>\n",
       "    <tr>\n",
       "      <th>2</th>\n",
       "      <td>4241</td>\n",
       "      <td>5</td>\n",
       "    </tr>\n",
       "    <tr>\n",
       "      <th>11</th>\n",
       "      <td>25971</td>\n",
       "      <td>7</td>\n",
       "    </tr>\n",
       "    <tr>\n",
       "      <th>14</th>\n",
       "      <td>40911</td>\n",
       "      <td>27</td>\n",
       "    </tr>\n",
       "    <tr>\n",
       "      <th>16</th>\n",
       "      <td>45181</td>\n",
       "      <td>5</td>\n",
       "    </tr>\n",
       "  </tbody>\n",
       "</table>\n",
       "</div>"
      ],
      "text/plain": [
       "    user_id  purchases\n",
       "1      1031          6\n",
       "2      4241          5\n",
       "11    25971          7\n",
       "14    40911         27\n",
       "16    45181          5"
      ]
     },
     "execution_count": 58,
     "metadata": {},
     "output_type": "execute_result"
    }
   ],
   "source": [
    "users_purcheses.head()"
   ]
  },
  {
   "cell_type": "code",
   "execution_count": 60,
   "id": "848fdbe3-9515-475c-8781-78de853452a0",
   "metadata": {},
   "outputs": [
    {
     "data": {
      "text/plain": [
       "7.0"
      ]
     },
     "execution_count": 60,
     "metadata": {},
     "output_type": "execute_result"
    }
   ],
   "source": [
    "# Посчитаем медиану покупок\n",
    "users_purcheses.purchases.median()"
   ]
  },
  {
   "cell_type": "code",
   "execution_count": 62,
   "id": "067517e3-3f45-4082-a91d-a37dec56807e",
   "metadata": {},
   "outputs": [
    {
     "data": {
      "text/html": [
       "<div>\n",
       "<style scoped>\n",
       "    .dataframe tbody tr th:only-of-type {\n",
       "        vertical-align: middle;\n",
       "    }\n",
       "\n",
       "    .dataframe tbody tr th {\n",
       "        vertical-align: top;\n",
       "    }\n",
       "\n",
       "    .dataframe thead th {\n",
       "        text-align: right;\n",
       "    }\n",
       "</style>\n",
       "<table border=\"1\" class=\"dataframe\">\n",
       "  <thead>\n",
       "    <tr style=\"text-align: right;\">\n",
       "      <th></th>\n",
       "      <th>user_id</th>\n",
       "      <th>purchases</th>\n",
       "    </tr>\n",
       "  </thead>\n",
       "  <tbody>\n",
       "    <tr>\n",
       "      <th>count</th>\n",
       "      <td>3.383000e+03</td>\n",
       "      <td>3383.000000</td>\n",
       "    </tr>\n",
       "    <tr>\n",
       "      <th>mean</th>\n",
       "      <td>6.421500e+07</td>\n",
       "      <td>9.320130</td>\n",
       "    </tr>\n",
       "    <tr>\n",
       "      <th>std</th>\n",
       "      <td>1.504830e+08</td>\n",
       "      <td>5.623993</td>\n",
       "    </tr>\n",
       "    <tr>\n",
       "      <th>min</th>\n",
       "      <td>1.031000e+03</td>\n",
       "      <td>5.000000</td>\n",
       "    </tr>\n",
       "    <tr>\n",
       "      <th>25%</th>\n",
       "      <td>8.871271e+06</td>\n",
       "      <td>6.000000</td>\n",
       "    </tr>\n",
       "    <tr>\n",
       "      <th>50%</th>\n",
       "      <td>2.842547e+07</td>\n",
       "      <td>7.000000</td>\n",
       "    </tr>\n",
       "    <tr>\n",
       "      <th>75%</th>\n",
       "      <td>8.542964e+07</td>\n",
       "      <td>11.000000</td>\n",
       "    </tr>\n",
       "    <tr>\n",
       "      <th>max</th>\n",
       "      <td>1.408810e+09</td>\n",
       "      <td>60.000000</td>\n",
       "    </tr>\n",
       "  </tbody>\n",
       "</table>\n",
       "</div>"
      ],
      "text/plain": [
       "            user_id    purchases\n",
       "count  3.383000e+03  3383.000000\n",
       "mean   6.421500e+07     9.320130\n",
       "std    1.504830e+08     5.623993\n",
       "min    1.031000e+03     5.000000\n",
       "25%    8.871271e+06     6.000000\n",
       "50%    2.842547e+07     7.000000\n",
       "75%    8.542964e+07    11.000000\n",
       "max    1.408810e+09    60.000000"
      ]
     },
     "execution_count": 62,
     "metadata": {},
     "output_type": "execute_result"
    }
   ],
   "source": [
    "users_purcheses.describe()\n",
    "# 50-75 (и так далее) -- это процентили (относительное положение определённого значения в наборе данных)"
   ]
  },
  {
   "cell_type": "code",
   "execution_count": null,
   "id": "db44605d-423d-444e-a312-033b761ded46",
   "metadata": {},
   "outputs": [],
   "source": []
  },
  {
   "cell_type": "code",
   "execution_count": 68,
   "id": "1cd42e1e-8b08-4b5b-aed9-5f2450137b65",
   "metadata": {},
   "outputs": [],
   "source": [
    "users_unique_brands = user_df.groupby('user_id', as_index=False) \\\n",
    "    .agg({'brand_name': pd.Series.nunique}) \\\n",
    "    .rename(columns={'brand_name':'unique_brands'})"
   ]
  },
  {
   "cell_type": "code",
   "execution_count": 76,
   "id": "f24c0180-130a-4d3d-8ec9-0776cea661d1",
   "metadata": {},
   "outputs": [
    {
     "data": {
      "text/html": [
       "<div>\n",
       "<style scoped>\n",
       "    .dataframe tbody tr th:only-of-type {\n",
       "        vertical-align: middle;\n",
       "    }\n",
       "\n",
       "    .dataframe tbody tr th {\n",
       "        vertical-align: top;\n",
       "    }\n",
       "\n",
       "    .dataframe thead th {\n",
       "        text-align: right;\n",
       "    }\n",
       "</style>\n",
       "<table border=\"1\" class=\"dataframe\">\n",
       "  <thead>\n",
       "    <tr style=\"text-align: right;\">\n",
       "      <th></th>\n",
       "      <th>user_id</th>\n",
       "      <th>unique_brands</th>\n",
       "    </tr>\n",
       "  </thead>\n",
       "  <tbody>\n",
       "    <tr>\n",
       "      <th>0</th>\n",
       "      <td>-1236394515</td>\n",
       "      <td>1</td>\n",
       "    </tr>\n",
       "    <tr>\n",
       "      <th>1</th>\n",
       "      <td>1031</td>\n",
       "      <td>2</td>\n",
       "    </tr>\n",
       "    <tr>\n",
       "      <th>2</th>\n",
       "      <td>4241</td>\n",
       "      <td>2</td>\n",
       "    </tr>\n",
       "    <tr>\n",
       "      <th>3</th>\n",
       "      <td>17311</td>\n",
       "      <td>1</td>\n",
       "    </tr>\n",
       "    <tr>\n",
       "      <th>4</th>\n",
       "      <td>17312</td>\n",
       "      <td>2</td>\n",
       "    </tr>\n",
       "  </tbody>\n",
       "</table>\n",
       "</div>"
      ],
      "text/plain": [
       "      user_id  unique_brands\n",
       "0 -1236394515              1\n",
       "1        1031              2\n",
       "2        4241              2\n",
       "3       17311              1\n",
       "4       17312              2"
      ]
     },
     "execution_count": 76,
     "metadata": {},
     "output_type": "execute_result"
    }
   ],
   "source": [
    "users_unique_brands.head(5)"
   ]
  },
  {
   "cell_type": "code",
   "execution_count": null,
   "id": "fa0dab43-670b-43fa-97a6-1e9da7c45339",
   "metadata": {},
   "outputs": [],
   "source": []
  },
  {
   "cell_type": "code",
   "execution_count": null,
   "id": "c81e11b7-73ac-4ca6-b06c-6547088945ba",
   "metadata": {},
   "outputs": [],
   "source": []
  },
  {
   "cell_type": "code",
   "execution_count": null,
   "id": "1acd4dd9-0e74-43a0-be14-761aa16b3064",
   "metadata": {},
   "outputs": [],
   "source": [
    "# Что же такое pandas.Series?"
   ]
  },
  {
   "cell_type": "code",
   "execution_count": null,
   "id": "f900c515-db61-4151-8a96-d8013234bb30",
   "metadata": {},
   "outputs": [],
   "source": [
    "# Рассмотрим список \n",
    "x = [1, 2, 3]\n",
    "# Для анализа список не очень подходит"
   ]
  },
  {
   "cell_type": "code",
   "execution_count": 85,
   "id": "6718fa2d-7805-4852-b8bb-7c4288c7803e",
   "metadata": {},
   "outputs": [
    {
     "data": {
      "text/plain": [
       "0    1\n",
       "1    2\n",
       "2    3\n",
       "dtype: int64"
      ]
     },
     "execution_count": 85,
     "metadata": {},
     "output_type": "execute_result"
    }
   ],
   "source": [
    "# Поэтому в Pandas существует собственный список\n",
    "x = pd.Series([1, 2, 3])\n",
    "x"
   ]
  },
  {
   "cell_type": "code",
   "execution_count": 93,
   "id": "b65e5411-5f79-449a-bb64-5a20473e1c4a",
   "metadata": {},
   "outputs": [
    {
     "data": {
      "text/plain": [
       "2.0"
      ]
     },
     "execution_count": 93,
     "metadata": {},
     "output_type": "execute_result"
    }
   ],
   "source": [
    "x.median()    # и другие методы можно использовать с Series"
   ]
  },
  {
   "cell_type": "code",
   "execution_count": null,
   "id": "47bee044-a602-451a-a5a7-db3a9a96273b",
   "metadata": {},
   "outputs": [],
   "source": [
    "# Анлогично со словарями: для них аналагом является DataFrame"
   ]
  },
  {
   "cell_type": "code",
   "execution_count": 95,
   "id": "82a771a0-a6a4-43cd-b388-e0387e877be9",
   "metadata": {},
   "outputs": [
    {
     "data": {
      "text/plain": [
       "{'x': '[1, 2 ,3]', 'y': '[4, 5, 6]'}"
      ]
     },
     "execution_count": 95,
     "metadata": {},
     "output_type": "execute_result"
    }
   ],
   "source": [
    "# Обычный словарь\n",
    "d = {'x':'[1, 2 ,3]', 'y':'[4, 5, 6]'}\n",
    "d"
   ]
  },
  {
   "cell_type": "code",
   "execution_count": 104,
   "id": "a7e0f4d6-5d2b-4c60-9880-4fb03c9b7a77",
   "metadata": {},
   "outputs": [
    {
     "data": {
      "text/html": [
       "<div>\n",
       "<style scoped>\n",
       "    .dataframe tbody tr th:only-of-type {\n",
       "        vertical-align: middle;\n",
       "    }\n",
       "\n",
       "    .dataframe tbody tr th {\n",
       "        vertical-align: top;\n",
       "    }\n",
       "\n",
       "    .dataframe thead th {\n",
       "        text-align: right;\n",
       "    }\n",
       "</style>\n",
       "<table border=\"1\" class=\"dataframe\">\n",
       "  <thead>\n",
       "    <tr style=\"text-align: right;\">\n",
       "      <th></th>\n",
       "      <th>x</th>\n",
       "      <th>y</th>\n",
       "    </tr>\n",
       "  </thead>\n",
       "  <tbody>\n",
       "    <tr>\n",
       "      <th>0</th>\n",
       "      <td>1</td>\n",
       "      <td>a</td>\n",
       "    </tr>\n",
       "    <tr>\n",
       "      <th>1</th>\n",
       "      <td>2</td>\n",
       "      <td>b</td>\n",
       "    </tr>\n",
       "    <tr>\n",
       "      <th>2</th>\n",
       "      <td>3</td>\n",
       "      <td>c</td>\n",
       "    </tr>\n",
       "  </tbody>\n",
       "</table>\n",
       "</div>"
      ],
      "text/plain": [
       "   x  y\n",
       "0  1  a\n",
       "1  2  b\n",
       "2  3  c"
      ]
     },
     "execution_count": 104,
     "metadata": {},
     "output_type": "execute_result"
    }
   ],
   "source": [
    "# И использование Pandas DataFrame:\n",
    "d = pd.DataFrame({'x':[1, 2 ,3], 'y':['a','b', 'c']})\n",
    "d"
   ]
  },
  {
   "cell_type": "code",
   "execution_count": null,
   "id": "e9486583-10ce-4485-8bbe-70727107a4c7",
   "metadata": {},
   "outputs": [],
   "source": []
  },
  {
   "cell_type": "code",
   "execution_count": null,
   "id": "ccade083-d973-43d6-86b0-206ee39db810",
   "metadata": {},
   "outputs": [],
   "source": []
  },
  {
   "cell_type": "code",
   "execution_count": null,
   "id": "ee135e38-5d61-4540-8b2a-f25372e60d25",
   "metadata": {},
   "outputs": [],
   "source": [
    "# Найдем для каждого пользователя бренд, который чаще всего покупает "
   ]
  },
  {
   "cell_type": "code",
   "execution_count": 136,
   "id": "7633cc4f-1a3e-4f51-b29b-00cd570ff6a9",
   "metadata": {},
   "outputs": [],
   "source": [
    "lovely_brand_purchases_df = user_df.groupby(['user_id', 'brand_name'], as_index=False) \\\n",
    "    .agg({'brand_info' : 'count'}) \\\n",
    "    .sort_values(['user_id', 'brand_info'], ascending=[False, False]) \\\n",
    "    .groupby('user_id') \\\n",
    "    .head(1) \\\n",
    "    .rename(columns={'brand_name':'lovely_brand', 'brand_info':'lovely_brand_purchases'})"
   ]
  },
  {
   "cell_type": "code",
   "execution_count": 138,
   "id": "44226dc9-e56d-4140-8f07-639d2b1cd261",
   "metadata": {},
   "outputs": [
    {
     "data": {
      "text/html": [
       "<div>\n",
       "<style scoped>\n",
       "    .dataframe tbody tr th:only-of-type {\n",
       "        vertical-align: middle;\n",
       "    }\n",
       "\n",
       "    .dataframe tbody tr th {\n",
       "        vertical-align: top;\n",
       "    }\n",
       "\n",
       "    .dataframe thead th {\n",
       "        text-align: right;\n",
       "    }\n",
       "</style>\n",
       "<table border=\"1\" class=\"dataframe\">\n",
       "  <thead>\n",
       "    <tr style=\"text-align: right;\">\n",
       "      <th></th>\n",
       "      <th>user_id</th>\n",
       "      <th>lovely_brand</th>\n",
       "      <th>lovely_brand_purchases</th>\n",
       "    </tr>\n",
       "  </thead>\n",
       "  <tbody>\n",
       "    <tr>\n",
       "      <th>18187</th>\n",
       "      <td>1408849249</td>\n",
       "      <td>Store_Brand</td>\n",
       "      <td>1</td>\n",
       "    </tr>\n",
       "    <tr>\n",
       "      <th>18186</th>\n",
       "      <td>1408840919</td>\n",
       "      <td>Store_Brand</td>\n",
       "      <td>1</td>\n",
       "    </tr>\n",
       "    <tr>\n",
       "      <th>18185</th>\n",
       "      <td>1408832719</td>\n",
       "      <td>Brand_4</td>\n",
       "      <td>3</td>\n",
       "    </tr>\n",
       "    <tr>\n",
       "      <th>18184</th>\n",
       "      <td>1408825059</td>\n",
       "      <td>Brand_1</td>\n",
       "      <td>1</td>\n",
       "    </tr>\n",
       "    <tr>\n",
       "      <th>18183</th>\n",
       "      <td>1408817589</td>\n",
       "      <td>Store_Brand</td>\n",
       "      <td>2</td>\n",
       "    </tr>\n",
       "    <tr>\n",
       "      <th>...</th>\n",
       "      <td>...</td>\n",
       "      <td>...</td>\n",
       "      <td>...</td>\n",
       "    </tr>\n",
       "    <tr>\n",
       "      <th>6</th>\n",
       "      <td>17312</td>\n",
       "      <td>Brand_1</td>\n",
       "      <td>1</td>\n",
       "    </tr>\n",
       "    <tr>\n",
       "      <th>5</th>\n",
       "      <td>17311</td>\n",
       "      <td>Brand_4</td>\n",
       "      <td>2</td>\n",
       "    </tr>\n",
       "    <tr>\n",
       "      <th>3</th>\n",
       "      <td>4241</td>\n",
       "      <td>Brand_4</td>\n",
       "      <td>3</td>\n",
       "    </tr>\n",
       "    <tr>\n",
       "      <th>2</th>\n",
       "      <td>1031</td>\n",
       "      <td>Store_Brand</td>\n",
       "      <td>5</td>\n",
       "    </tr>\n",
       "    <tr>\n",
       "      <th>0</th>\n",
       "      <td>-1236394515</td>\n",
       "      <td>Brand_4</td>\n",
       "      <td>1</td>\n",
       "    </tr>\n",
       "  </tbody>\n",
       "</table>\n",
       "<p>11764 rows × 3 columns</p>\n",
       "</div>"
      ],
      "text/plain": [
       "          user_id lovely_brand  lovely_brand_purchases\n",
       "18187  1408849249  Store_Brand                       1\n",
       "18186  1408840919  Store_Brand                       1\n",
       "18185  1408832719      Brand_4                       3\n",
       "18184  1408825059      Brand_1                       1\n",
       "18183  1408817589  Store_Brand                       2\n",
       "...           ...          ...                     ...\n",
       "6           17312      Brand_1                       1\n",
       "5           17311      Brand_4                       2\n",
       "3            4241      Brand_4                       3\n",
       "2            1031  Store_Brand                       5\n",
       "0     -1236394515      Brand_4                       1\n",
       "\n",
       "[11764 rows x 3 columns]"
      ]
     },
     "execution_count": 138,
     "metadata": {},
     "output_type": "execute_result"
    }
   ],
   "source": [
    "lovely_brand_purchases_df"
   ]
  },
  {
   "cell_type": "code",
   "execution_count": null,
   "id": "ab1110e7-6ed2-4fd9-86f3-4130f91e82eb",
   "metadata": {},
   "outputs": [],
   "source": []
  },
  {
   "cell_type": "code",
   "execution_count": 110,
   "id": "8f2051e6-a668-4b43-bfbe-7d34b8075b4d",
   "metadata": {},
   "outputs": [],
   "source": [
    "# Если мы не знаем о методе, то можно использовать следующее:\n",
    "# ??pd.DataFrame.merge "
   ]
  },
  {
   "cell_type": "code",
   "execution_count": null,
   "id": "8cae7f0a-2f43-4fc5-bb76-e2dc9ea778d0",
   "metadata": {},
   "outputs": [],
   "source": []
  },
  {
   "cell_type": "code",
   "execution_count": null,
   "id": "29916f22-f312-4ba3-9924-12f45918dee3",
   "metadata": {},
   "outputs": [],
   "source": [
    "# Объединим таблицы"
   ]
  },
  {
   "cell_type": "code",
   "execution_count": 144,
   "id": "caf4c379-6b03-4430-9a76-3cbffdad3a81",
   "metadata": {},
   "outputs": [],
   "source": [
    "loyalty_df = users_purcheses \\\n",
    "    .merge(users_unique_brands, on='user_id') \\\n",
    "    .merge(lovely_brand_purchases_df, on='user_id')\n",
    "\n",
    "# inner использует по умолчанию"
   ]
  },
  {
   "cell_type": "code",
   "execution_count": 146,
   "id": "92ecf247-f752-4002-8a3f-e9631afec313",
   "metadata": {},
   "outputs": [
    {
     "data": {
      "text/html": [
       "<div>\n",
       "<style scoped>\n",
       "    .dataframe tbody tr th:only-of-type {\n",
       "        vertical-align: middle;\n",
       "    }\n",
       "\n",
       "    .dataframe tbody tr th {\n",
       "        vertical-align: top;\n",
       "    }\n",
       "\n",
       "    .dataframe thead th {\n",
       "        text-align: right;\n",
       "    }\n",
       "</style>\n",
       "<table border=\"1\" class=\"dataframe\">\n",
       "  <thead>\n",
       "    <tr style=\"text-align: right;\">\n",
       "      <th></th>\n",
       "      <th>user_id</th>\n",
       "      <th>purchases</th>\n",
       "      <th>unique_brands</th>\n",
       "      <th>lovely_brand</th>\n",
       "      <th>lovely_brand_purchases</th>\n",
       "    </tr>\n",
       "  </thead>\n",
       "  <tbody>\n",
       "    <tr>\n",
       "      <th>0</th>\n",
       "      <td>1031</td>\n",
       "      <td>6</td>\n",
       "      <td>2</td>\n",
       "      <td>Store_Brand</td>\n",
       "      <td>5</td>\n",
       "    </tr>\n",
       "    <tr>\n",
       "      <th>1</th>\n",
       "      <td>4241</td>\n",
       "      <td>5</td>\n",
       "      <td>2</td>\n",
       "      <td>Brand_4</td>\n",
       "      <td>3</td>\n",
       "    </tr>\n",
       "    <tr>\n",
       "      <th>2</th>\n",
       "      <td>25971</td>\n",
       "      <td>7</td>\n",
       "      <td>2</td>\n",
       "      <td>Store_Brand</td>\n",
       "      <td>5</td>\n",
       "    </tr>\n",
       "    <tr>\n",
       "      <th>3</th>\n",
       "      <td>40911</td>\n",
       "      <td>27</td>\n",
       "      <td>5</td>\n",
       "      <td>Brand_4</td>\n",
       "      <td>19</td>\n",
       "    </tr>\n",
       "    <tr>\n",
       "      <th>4</th>\n",
       "      <td>45181</td>\n",
       "      <td>5</td>\n",
       "      <td>4</td>\n",
       "      <td>Store_Brand</td>\n",
       "      <td>2</td>\n",
       "    </tr>\n",
       "    <tr>\n",
       "      <th>...</th>\n",
       "      <td>...</td>\n",
       "      <td>...</td>\n",
       "      <td>...</td>\n",
       "      <td>...</td>\n",
       "      <td>...</td>\n",
       "    </tr>\n",
       "    <tr>\n",
       "      <th>3378</th>\n",
       "      <td>1408767189</td>\n",
       "      <td>5</td>\n",
       "      <td>1</td>\n",
       "      <td>Brand_4</td>\n",
       "      <td>5</td>\n",
       "    </tr>\n",
       "    <tr>\n",
       "      <th>3379</th>\n",
       "      <td>1408783189</td>\n",
       "      <td>10</td>\n",
       "      <td>2</td>\n",
       "      <td>Store_Brand</td>\n",
       "      <td>8</td>\n",
       "    </tr>\n",
       "    <tr>\n",
       "      <th>3380</th>\n",
       "      <td>1408783379</td>\n",
       "      <td>6</td>\n",
       "      <td>2</td>\n",
       "      <td>Brand_1</td>\n",
       "      <td>4</td>\n",
       "    </tr>\n",
       "    <tr>\n",
       "      <th>3381</th>\n",
       "      <td>1408798879</td>\n",
       "      <td>8</td>\n",
       "      <td>3</td>\n",
       "      <td>Store_Brand</td>\n",
       "      <td>4</td>\n",
       "    </tr>\n",
       "    <tr>\n",
       "      <th>3382</th>\n",
       "      <td>1408810219</td>\n",
       "      <td>9</td>\n",
       "      <td>2</td>\n",
       "      <td>Brand_2</td>\n",
       "      <td>6</td>\n",
       "    </tr>\n",
       "  </tbody>\n",
       "</table>\n",
       "<p>3383 rows × 5 columns</p>\n",
       "</div>"
      ],
      "text/plain": [
       "         user_id  purchases  unique_brands lovely_brand  \\\n",
       "0           1031          6              2  Store_Brand   \n",
       "1           4241          5              2      Brand_4   \n",
       "2          25971          7              2  Store_Brand   \n",
       "3          40911         27              5      Brand_4   \n",
       "4          45181          5              4  Store_Brand   \n",
       "...          ...        ...            ...          ...   \n",
       "3378  1408767189          5              1      Brand_4   \n",
       "3379  1408783189         10              2  Store_Brand   \n",
       "3380  1408783379          6              2      Brand_1   \n",
       "3381  1408798879          8              3  Store_Brand   \n",
       "3382  1408810219          9              2      Brand_2   \n",
       "\n",
       "      lovely_brand_purchases  \n",
       "0                          5  \n",
       "1                          3  \n",
       "2                          5  \n",
       "3                         19  \n",
       "4                          2  \n",
       "...                      ...  \n",
       "3378                       5  \n",
       "3379                       8  \n",
       "3380                       4  \n",
       "3381                       4  \n",
       "3382                       6  \n",
       "\n",
       "[3383 rows x 5 columns]"
      ]
     },
     "execution_count": 146,
     "metadata": {},
     "output_type": "execute_result"
    }
   ],
   "source": [
    "loyalty_df"
   ]
  },
  {
   "cell_type": "code",
   "execution_count": null,
   "id": "2eead239-265b-46d4-b899-c77b3e3a2cd9",
   "metadata": {},
   "outputs": [],
   "source": []
  },
  {
   "cell_type": "code",
   "execution_count": 156,
   "id": "8ea74265-ddbc-4555-8b95-e80f00eb3897",
   "metadata": {},
   "outputs": [],
   "source": [
    "loyal_user = loyalty_df[loyalty_df.unique_brands == 1]"
   ]
  },
  {
   "cell_type": "code",
   "execution_count": 158,
   "id": "8a078702-e5df-4781-b35b-26b5ad7d498b",
   "metadata": {},
   "outputs": [
    {
     "data": {
      "text/html": [
       "<div>\n",
       "<style scoped>\n",
       "    .dataframe tbody tr th:only-of-type {\n",
       "        vertical-align: middle;\n",
       "    }\n",
       "\n",
       "    .dataframe tbody tr th {\n",
       "        vertical-align: top;\n",
       "    }\n",
       "\n",
       "    .dataframe thead th {\n",
       "        text-align: right;\n",
       "    }\n",
       "</style>\n",
       "<table border=\"1\" class=\"dataframe\">\n",
       "  <thead>\n",
       "    <tr style=\"text-align: right;\">\n",
       "      <th></th>\n",
       "      <th>user_id</th>\n",
       "      <th>purchases</th>\n",
       "      <th>unique_brands</th>\n",
       "      <th>lovely_brand</th>\n",
       "      <th>lovely_brand_purchases</th>\n",
       "    </tr>\n",
       "  </thead>\n",
       "  <tbody>\n",
       "    <tr>\n",
       "      <th>13</th>\n",
       "      <td>86281</td>\n",
       "      <td>14</td>\n",
       "      <td>1</td>\n",
       "      <td>Brand_4</td>\n",
       "      <td>14</td>\n",
       "    </tr>\n",
       "    <tr>\n",
       "      <th>18</th>\n",
       "      <td>94961</td>\n",
       "      <td>6</td>\n",
       "      <td>1</td>\n",
       "      <td>Brand_4</td>\n",
       "      <td>6</td>\n",
       "    </tr>\n",
       "    <tr>\n",
       "      <th>29</th>\n",
       "      <td>132061</td>\n",
       "      <td>9</td>\n",
       "      <td>1</td>\n",
       "      <td>Brand_4</td>\n",
       "      <td>9</td>\n",
       "    </tr>\n",
       "    <tr>\n",
       "      <th>30</th>\n",
       "      <td>134281</td>\n",
       "      <td>6</td>\n",
       "      <td>1</td>\n",
       "      <td>Brand_4</td>\n",
       "      <td>6</td>\n",
       "    </tr>\n",
       "    <tr>\n",
       "      <th>35</th>\n",
       "      <td>157311</td>\n",
       "      <td>12</td>\n",
       "      <td>1</td>\n",
       "      <td>Brand_4</td>\n",
       "      <td>12</td>\n",
       "    </tr>\n",
       "    <tr>\n",
       "      <th>...</th>\n",
       "      <td>...</td>\n",
       "      <td>...</td>\n",
       "      <td>...</td>\n",
       "      <td>...</td>\n",
       "      <td>...</td>\n",
       "    </tr>\n",
       "    <tr>\n",
       "      <th>3372</th>\n",
       "      <td>1010244089</td>\n",
       "      <td>9</td>\n",
       "      <td>1</td>\n",
       "      <td>Store_Brand</td>\n",
       "      <td>9</td>\n",
       "    </tr>\n",
       "    <tr>\n",
       "      <th>3374</th>\n",
       "      <td>1010247239</td>\n",
       "      <td>5</td>\n",
       "      <td>1</td>\n",
       "      <td>Brand_4</td>\n",
       "      <td>5</td>\n",
       "    </tr>\n",
       "    <tr>\n",
       "      <th>3376</th>\n",
       "      <td>1010274559</td>\n",
       "      <td>5</td>\n",
       "      <td>1</td>\n",
       "      <td>Brand_4</td>\n",
       "      <td>5</td>\n",
       "    </tr>\n",
       "    <tr>\n",
       "      <th>3377</th>\n",
       "      <td>1110091379</td>\n",
       "      <td>5</td>\n",
       "      <td>1</td>\n",
       "      <td>Brand_1</td>\n",
       "      <td>5</td>\n",
       "    </tr>\n",
       "    <tr>\n",
       "      <th>3378</th>\n",
       "      <td>1408767189</td>\n",
       "      <td>5</td>\n",
       "      <td>1</td>\n",
       "      <td>Brand_4</td>\n",
       "      <td>5</td>\n",
       "    </tr>\n",
       "  </tbody>\n",
       "</table>\n",
       "<p>911 rows × 5 columns</p>\n",
       "</div>"
      ],
      "text/plain": [
       "         user_id  purchases  unique_brands lovely_brand  \\\n",
       "13         86281         14              1      Brand_4   \n",
       "18         94961          6              1      Brand_4   \n",
       "29        132061          9              1      Brand_4   \n",
       "30        134281          6              1      Brand_4   \n",
       "35        157311         12              1      Brand_4   \n",
       "...          ...        ...            ...          ...   \n",
       "3372  1010244089          9              1  Store_Brand   \n",
       "3374  1010247239          5              1      Brand_4   \n",
       "3376  1010274559          5              1      Brand_4   \n",
       "3377  1110091379          5              1      Brand_1   \n",
       "3378  1408767189          5              1      Brand_4   \n",
       "\n",
       "      lovely_brand_purchases  \n",
       "13                        14  \n",
       "18                         6  \n",
       "29                         9  \n",
       "30                         6  \n",
       "35                        12  \n",
       "...                      ...  \n",
       "3372                       9  \n",
       "3374                       5  \n",
       "3376                       5  \n",
       "3377                       5  \n",
       "3378                       5  \n",
       "\n",
       "[911 rows x 5 columns]"
      ]
     },
     "execution_count": 158,
     "metadata": {},
     "output_type": "execute_result"
    }
   ],
   "source": [
    "loyal_user"
   ]
  },
  {
   "cell_type": "code",
   "execution_count": null,
   "id": "3426d6b3-b497-4e5e-b79a-6e201fc8a124",
   "metadata": {},
   "outputs": [],
   "source": [
    "# Метрика \"Лояльность пользователя\""
   ]
  },
  {
   "cell_type": "code",
   "execution_count": 160,
   "id": "cd1de5d2-5a2e-4a6d-9913-4f87d8e542c9",
   "metadata": {},
   "outputs": [],
   "source": [
    "loyalty_df['loyalty_score'] = loyalty_df.lovely_brand_purchases / loyalty_df.purchases"
   ]
  },
  {
   "cell_type": "code",
   "execution_count": 162,
   "id": "5d678b96-7b8b-4407-9963-4c6b01ce3317",
   "metadata": {},
   "outputs": [
    {
     "data": {
      "text/html": [
       "<div>\n",
       "<style scoped>\n",
       "    .dataframe tbody tr th:only-of-type {\n",
       "        vertical-align: middle;\n",
       "    }\n",
       "\n",
       "    .dataframe tbody tr th {\n",
       "        vertical-align: top;\n",
       "    }\n",
       "\n",
       "    .dataframe thead th {\n",
       "        text-align: right;\n",
       "    }\n",
       "</style>\n",
       "<table border=\"1\" class=\"dataframe\">\n",
       "  <thead>\n",
       "    <tr style=\"text-align: right;\">\n",
       "      <th></th>\n",
       "      <th>user_id</th>\n",
       "      <th>purchases</th>\n",
       "      <th>unique_brands</th>\n",
       "      <th>lovely_brand</th>\n",
       "      <th>lovely_brand_purchases</th>\n",
       "      <th>loyalty_score</th>\n",
       "    </tr>\n",
       "  </thead>\n",
       "  <tbody>\n",
       "    <tr>\n",
       "      <th>0</th>\n",
       "      <td>1031</td>\n",
       "      <td>6</td>\n",
       "      <td>2</td>\n",
       "      <td>Store_Brand</td>\n",
       "      <td>5</td>\n",
       "      <td>0.833333</td>\n",
       "    </tr>\n",
       "    <tr>\n",
       "      <th>1</th>\n",
       "      <td>4241</td>\n",
       "      <td>5</td>\n",
       "      <td>2</td>\n",
       "      <td>Brand_4</td>\n",
       "      <td>3</td>\n",
       "      <td>0.600000</td>\n",
       "    </tr>\n",
       "    <tr>\n",
       "      <th>2</th>\n",
       "      <td>25971</td>\n",
       "      <td>7</td>\n",
       "      <td>2</td>\n",
       "      <td>Store_Brand</td>\n",
       "      <td>5</td>\n",
       "      <td>0.714286</td>\n",
       "    </tr>\n",
       "    <tr>\n",
       "      <th>3</th>\n",
       "      <td>40911</td>\n",
       "      <td>27</td>\n",
       "      <td>5</td>\n",
       "      <td>Brand_4</td>\n",
       "      <td>19</td>\n",
       "      <td>0.703704</td>\n",
       "    </tr>\n",
       "    <tr>\n",
       "      <th>4</th>\n",
       "      <td>45181</td>\n",
       "      <td>5</td>\n",
       "      <td>4</td>\n",
       "      <td>Store_Brand</td>\n",
       "      <td>2</td>\n",
       "      <td>0.400000</td>\n",
       "    </tr>\n",
       "  </tbody>\n",
       "</table>\n",
       "</div>"
      ],
      "text/plain": [
       "   user_id  purchases  unique_brands lovely_brand  lovely_brand_purchases  \\\n",
       "0     1031          6              2  Store_Brand                       5   \n",
       "1     4241          5              2      Brand_4                       3   \n",
       "2    25971          7              2  Store_Brand                       5   \n",
       "3    40911         27              5      Brand_4                      19   \n",
       "4    45181          5              4  Store_Brand                       2   \n",
       "\n",
       "   loyalty_score  \n",
       "0       0.833333  \n",
       "1       0.600000  \n",
       "2       0.714286  \n",
       "3       0.703704  \n",
       "4       0.400000  "
      ]
     },
     "execution_count": 162,
     "metadata": {},
     "output_type": "execute_result"
    }
   ],
   "source": [
    "loyalty_df.head()"
   ]
  },
  {
   "cell_type": "code",
   "execution_count": null,
   "id": "aba632af-59ce-4513-9363-a3b397ca3d93",
   "metadata": {},
   "outputs": [],
   "source": [
    "# Графики"
   ]
  },
  {
   "cell_type": "code",
   "execution_count": 209,
   "id": "7c902fb4-d3ab-4643-a035-cbbe93ac8fe2",
   "metadata": {},
   "outputs": [
    {
     "data": {
      "image/png": "[encoded data removed]",
      "text/plain": [
       "<Figure size 640x480 with 1 Axes>"
      ]
     },
     "metadata": {},
     "output_type": "display_data"
    }
   ],
   "source": [
    "ax = sns.histplot(loyalty_df.loyalty_score, kde=False)\n",
    "plt.show()"
   ]
  },
  {
   "cell_type": "code",
   "execution_count": 223,
   "id": "6c878497-78b3-4931-88a2-dce65bf67916",
   "metadata": {},
   "outputs": [],
   "source": [
    "brands_loalty = loyalty_df.groupby('lovely_brand') \\\n",
    "    .agg({'loyalty_score':'median', 'user_id':'count'})\n",
    "\n"
   ]
  },
  {
   "cell_type": "code",
   "execution_count": 231,
   "id": "0b8ef0f1-4649-4df7-8590-f02fc9aab28e",
   "metadata": {},
   "outputs": [
    {
     "data": {
      "image/png": "[encoded data removed]",
      "text/plain": [
       "<Figure size 640x480 with 1 Axes>"
      ]
     },
     "metadata": {},
     "output_type": "display_data"
    }
   ],
   "source": [
    "ax = sns.barplot(x='lovely_brand', y='loyalty_score', data=brands_loalty, hue='lovely_brand', palette='viridis', legend=False)\n",
    "plt.show()"
   ]
  },
  {
   "cell_type": "code",
   "execution_count": null,
   "id": "26fdf20e-5672-429a-a7c2-6a074abd62e0",
   "metadata": {},
   "outputs": [],
   "source": []
  }
 ],
 "metadata": {
  "kernelspec": {
   "display_name": "Python [conda env:base] *",
   "language": "python",
   "name": "conda-base-py"
  },
  "language_info": {
   "codemirror_mode": {
    "name": "ipython",
    "version": 3
   },
   "file_extension": ".py",
   "mimetype": "text/x-python",
   "name": "python",
   "nbconvert_exporter": "python",
   "pygments_lexer": "ipython3",
   "version": "3.12.7"
  }
 },
 "nbformat": 4,
 "nbformat_minor": 5
}
